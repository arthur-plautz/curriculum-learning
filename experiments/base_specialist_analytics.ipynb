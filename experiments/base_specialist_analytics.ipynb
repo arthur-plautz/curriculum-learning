{
 "cells": [
  {
   "cell_type": "code",
   "execution_count": null,
   "metadata": {},
   "outputs": [],
   "source": [
    "import logging\n",
    "logging.basicConfig()\n",
    "logger = logging.getLogger()\n",
    "# logger.setLevel(logging.INFO)\n",
    "\n",
    "from models.analytics.stats import StatsAnalytics\n",
    "from models.analytics.base_conditions import BaseConditionsAnalytics\n",
    "from models.analytics.agent_base_conditions import AgentBaseConditionsAnalytics\n",
    "from models.analytics.fit_evaluation import FitEvaluationAnalytics\n",
    "from definitions import BASE_MANAGER_FOLDER, BASE_CONDITIONS_FOLDER\n",
    "from graphs import precision_recall_graph, score_graph, heatmap\n",
    "\n",
    "seeds = ['s1', 's2','s3', 's4', 's5' ]"
   ]
  },
  {
   "cell_type": "code",
   "execution_count": null,
   "metadata": {},
   "outputs": [],
   "source": [
    "stats_analytics= StatsAnalytics(f'{BASE_MANAGER_FOLDER}/base', seeds)\n",
    "summary = stats_analytics.get_mean()"
   ]
  },
  {
   "cell_type": "code",
   "execution_count": null,
   "metadata": {},
   "outputs": [],
   "source": [
    "import seaborn as sns\n",
    "\n",
    "sns.color_palette(\"mako\", as_cmap=True)\n",
    "\n",
    "score_graph(summary, seeds)\n",
    "\n",
    "metrics_columns = ['specialist_tp', 'specialist_fp', 'specialist_fn', 'specialist_tn']\n",
    "metrics = stats_analytics.get_stats(metrics_columns)\n",
    "\n",
    "precision_recall_graph(metrics, seeds)"
   ]
  },
  {
   "cell_type": "code",
   "execution_count": null,
   "metadata": {},
   "outputs": [],
   "source": [
    "prefit_columns = ['prefit_tp','prefit_fp','prefit_fn','prefit_tn']\n",
    "postfit_columns = ['postfit_tp','postfit_fp','postfit_fn','postfit_tn']\n",
    "fit_evaluation_analytics = FitEvaluationAnalytics(f'{BASE_MANAGER_FOLDER}/base', seeds, prefit_columns + postfit_columns)\n",
    "\n",
    "prefit_metrics = fit_evaluation_analytics.get_stats(prefit_columns)\n",
    "postfit_metrics = fit_evaluation_analytics.get_stats(postfit_columns)\n",
    "\n",
    "precision_recall_graph(prefit_metrics, seeds)\n",
    "precision_recall_graph(postfit_metrics, seeds)"
   ]
  },
  {
   "cell_type": "code",
   "execution_count": null,
   "metadata": {},
   "outputs": [],
   "source": [
    "import pandas as pd\n",
    "\n",
    "base_conditions_analytics = BaseConditionsAnalytics(f'{BASE_MANAGER_FOLDER}/base', seeds)\n",
    "specialist_heatmap_list = base_conditions_analytics.get_mean()\n",
    "\n",
    "df = pd.DataFrame(specialist_heatmap_list)\n",
    "specialist_heat_df = df * 1000\n",
    "\n",
    "heatmap(specialist_heat_df.T, title=f'Specialist Performance Through Conditions X Generation {seeds}')"
   ]
  },
  {
   "cell_type": "code",
   "execution_count": null,
   "metadata": {},
   "outputs": [],
   "source": [
    "agent_conditions = AgentBaseConditionsAnalytics(BASE_CONDITIONS_FOLDER, seeds)\n",
    "\n",
    "for seed in seeds:\n",
    "    df = agent_conditions.get_seed(seed)\n",
    "    heatmap(df.data.T, title=f'Agent Performance Through Conditions X Generation {seed}')\n",
    "\n",
    "agent_heat_df = agent_conditions.get_mean()\n",
    "\n",
    "heatmap(agent_heat_df.T, title=f'Agent Performance Through Conditions X Generation {seeds} Mean')"
   ]
  },
  {
   "cell_type": "code",
   "execution_count": null,
   "metadata": {},
   "outputs": [],
   "source": [
    "start = len(agent_heat_df) - len(specialist_heat_df)\n",
    "\n",
    "agent_heat_df = agent_heat_df[start:].reset_index()\n",
    "diff = agent_heat_df.subtract(specialist_heat_df)\n",
    "\n",
    "heatmap(diff.T.abs(), title=f'Difference of Agent/Specialist Performance Through Conditions X Generation {seeds}', colorscale='temps')"
   ]
  }
 ],
 "metadata": {
  "interpreter": {
   "hash": "ae80c17444a0996d928dad3ee1723604184bacf4d408584ae65b81b60ad5831a"
  },
  "kernelspec": {
   "display_name": "Python 3.9.5 ('venv': venv)",
   "language": "python",
   "name": "python3"
  },
  "language_info": {
   "codemirror_mode": {
    "name": "ipython",
    "version": 3
   },
   "file_extension": ".py",
   "mimetype": "text/x-python",
   "name": "python",
   "nbconvert_exporter": "python",
   "pygments_lexer": "ipython3",
   "version": "3.9.5"
  },
  "orig_nbformat": 4
 },
 "nbformat": 4,
 "nbformat_minor": 2
}
