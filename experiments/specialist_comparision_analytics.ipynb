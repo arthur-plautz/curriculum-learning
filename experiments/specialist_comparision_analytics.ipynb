{
 "cells": [
  {
   "cell_type": "code",
   "execution_count": null,
   "metadata": {},
   "outputs": [],
   "source": [
    "import logging\n",
    "logging.basicConfig()\n",
    "logger = logging.getLogger()\n",
    "# logger.setLevel(logging.INFO)\n",
    "\n",
    "from models.analytics.stats_group import StatsGroupAnalytics\n",
    "from models.analytics.stats import StatsAnalytics\n",
    "from definitions import RANDOM_MANAGER_FOLDER, BASE_MANAGER_FOLDER, INTEGRATED_MANAGER_FOLDER\n",
    "from graphs import precision_recall_group_graph, score_group_graph\n",
    "\n",
    "seeds = ['s1', 's2','s3', 's4', 's5' ]\n",
    "groups = ['sp50']"
   ]
  },
  {
   "cell_type": "code",
   "execution_count": null,
   "metadata": {},
   "outputs": [],
   "source": [
    "\n",
    "generated_stats_analytics= StatsGroupAnalytics(RANDOM_MANAGER_FOLDER, seeds, groups)\n",
    "generated_summary = generated_stats_analytics.get_summary().get('sp50')\n",
    "\n",
    "historical_stats_analytics= StatsGroupAnalytics(INTEGRATED_MANAGER_FOLDER, seeds, groups)\n",
    "historical_summary = historical_stats_analytics.get_summary().get('sp50')\n",
    "\n",
    "base_stats_analytics= StatsAnalytics(f'{BASE_MANAGER_FOLDER}/base', seeds)\n",
    "base_summary = base_stats_analytics.get_mean()"
   ]
  },
  {
   "cell_type": "code",
   "execution_count": null,
   "metadata": {},
   "outputs": [],
   "source": [
    "groups = ['base', 'historical', 'generated']\n",
    "\n",
    "analytics = {\n",
    "    'base': base_stats_analytics,\n",
    "    'historical': historical_stats_analytics,\n",
    "    'generated': generated_stats_analytics\n",
    "}\n",
    "\n",
    "dfs = {\n",
    "    'base': base_summary,\n",
    "    'historical': historical_summary,\n",
    "    'generated': generated_summary\n",
    "}\n",
    "\n",
    "score_group_graph(groups, dfs, seeds)\n",
    "\n"
   ]
  },
  {
   "cell_type": "code",
   "execution_count": null,
   "metadata": {},
   "outputs": [],
   "source": [
    "metrics_columns = ['specialist_tp', 'specialist_fp', 'specialist_fn', 'specialist_tn']\n",
    "metrics_dfs = {\n",
    "    'base': base_stats_analytics.get_stats(metrics_columns),\n",
    "    'historical': historical_stats_analytics.get_stats(metrics_columns).get('sp50'),\n",
    "    'generated': generated_stats_analytics.get_stats(metrics_columns).get('sp50')\n",
    "}\n",
    "\n",
    "precision_recall_group_graph(metrics_dfs, groups, seeds)"
   ]
  }
 ],
 "metadata": {
  "kernelspec": {
   "display_name": "Python 3.8.10 ('venv': venv)",
   "language": "python",
   "name": "python3"
  },
  "language_info": {
   "codemirror_mode": {
    "name": "ipython",
    "version": 3
   },
   "file_extension": ".py",
   "mimetype": "text/x-python",
   "name": "python",
   "nbconvert_exporter": "python",
   "pygments_lexer": "ipython3",
   "version": "3.8.10"
  },
  "orig_nbformat": 4,
  "vscode": {
   "interpreter": {
    "hash": "ec50b3290277b2de4ba0e43121c80cd3e5a2cfa961128487e9ab6cf116ae75c8"
   }
  }
 },
 "nbformat": 4,
 "nbformat_minor": 2
}
