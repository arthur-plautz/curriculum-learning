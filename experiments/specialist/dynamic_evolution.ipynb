{
 "cells": [
  {
   "cell_type": "code",
   "execution_count": null,
   "metadata": {},
   "outputs": [],
   "source": [
    "from specialist_data import pipeline"
   ]
  },
  {
   "cell_type": "code",
   "execution_count": null,
   "metadata": {},
   "outputs": [],
   "source": [
    "from models.specialist.interface import Specialist\n",
    "from models.specialist.evolution.dynamic import DynamicEvolution\n",
    "\n",
    "manager = pipeline()\n",
    "\n",
    "for seed, transformed in manager.transformed.items():\n",
    "    specialist = Specialist(\n",
    "        start_generation=1000,\n",
    "        expected_score=0.75,\n",
    "    )\n",
    "    evolution = DynamicEvolution(transformed, seed, specialist)\n",
    "    evolution.evolve_process(start=specialist.generation)\n"
   ]
  },
  {
   "cell_type": "code",
   "execution_count": null,
   "metadata": {},
   "outputs": [],
   "source": [
    "from models.specialist.stats.dynamic_evolution_stats import DynamicEvolutionStats\n",
    "\n",
    "manager = pipeline()\n",
    "seeds = [seed for seed in manager.transformed.keys()]\n",
    "\n",
    "stats = DynamicEvolutionStats(seeds)\n",
    "stats.get_data()"
   ]
  },
  {
   "cell_type": "code",
   "execution_count": null,
   "metadata": {},
   "outputs": [],
   "source": [
    "stats.plot_seeds_scatter()\n",
    "stats.describe_score()\n",
    "stats.describe_cycles()"
   ]
  }
 ],
 "metadata": {
  "interpreter": {
   "hash": "456e324ffeb74f1f034f765c2a4bb10a44a088b16d5dd2a7c0d4e6be8a580f29"
  },
  "kernelspec": {
   "display_name": "Python 3.8.10 64-bit ('venv': venv)",
   "language": "python",
   "name": "python3"
  },
  "language_info": {
   "codemirror_mode": {
    "name": "ipython",
    "version": 3
   },
   "file_extension": ".py",
   "mimetype": "text/x-python",
   "name": "python",
   "nbconvert_exporter": "python",
   "pygments_lexer": "ipython3",
   "version": "3.8.10"
  },
  "orig_nbformat": 4
 },
 "nbformat": 4,
 "nbformat_minor": 2
}
