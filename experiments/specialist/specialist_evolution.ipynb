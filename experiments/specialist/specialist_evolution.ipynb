{
 "cells": [
  {
   "cell_type": "code",
   "execution_count": 1,
   "metadata": {},
   "outputs": [],
   "source": [
    "from specialist_data import transformed\n",
    "from sklearn.neural_network import MLPClassifier\n",
    "import warnings\n",
    "warnings.filterwarnings('ignore')\n",
    "\n",
    "data = transformed.data.copy()\n",
    "\n",
    "def set_classifier():\n",
    "    return  MLPClassifier(\n",
    "        hidden_layer_sizes=(64,64,64,64,64),\n",
    "        alpha=0.000001,\n",
    "        max_iter=2000,\n",
    "        activation=\"tanh\",\n",
    "        verbose=10,\n",
    "        random_state=42,\n",
    "        tol=0.000005\n",
    "    )\n",
    "\n",
    "def evolve_stage(clf, stage, interval):\n",
    "    train_data = data.query(f'index > {stage}000 and index < {stage + interval}000')\n",
    "    test_data = data.query(f'index > {stage + interval}000 and index < {stage + interval*2}000')\n",
    "    transformed.set_data(train_data)\n",
    "    clf = clf.partial_fit(transformed.X, transformed.level, ['bad', 'good'])\n",
    "    transformed.set_data(test_data)\n",
    "    return clf.score(transformed.X, transformed.level)\n",
    "\n",
    "def evolve_process(clf, interval=2):\n",
    "    results = []\n",
    "    stages = []\n",
    "    max_gen = 40 - (interval * 2)\n",
    "    for stg in range(8, max_gen, interval):\n",
    "        r = evolve_stage(clf, stg, interval)\n",
    "        results.append(int(r*100))\n",
    "        stages.append(stg*1000)\n",
    "    return stages, results"
   ]
  },
  {
   "cell_type": "code",
   "execution_count": 2,
   "metadata": {},
   "outputs": [
    {
     "name": "stdout",
     "output_type": "stream",
     "text": [
      "Iteration 1, loss = 0.45728789\n",
      "Iteration 2, loss = 0.10301180\n",
      "Iteration 3, loss = 0.90253964\n",
      "Iteration 4, loss = 1.16744351\n",
      "Iteration 5, loss = 0.83273924\n",
      "Iteration 6, loss = 0.68911618\n",
      "Iteration 7, loss = 0.71994237\n",
      "Iteration 8, loss = 0.68134092\n",
      "Iteration 9, loss = 0.68243465\n",
      "Iteration 10, loss = 0.67385229\n",
      "Iteration 11, loss = 0.65019977\n",
      "Iteration 12, loss = 0.65502672\n",
      "Iteration 13, loss = 0.62640857\n",
      "Training loss did not improve more than tol=0.000005 for 10 consecutive epochs. Stopping.\n",
      "Iteration 14, loss = 0.60316034\n",
      "Training loss did not improve more than tol=0.000005 for 10 consecutive epochs. Stopping.\n",
      "Iteration 15, loss = 0.63381739\n",
      "Training loss did not improve more than tol=0.000005 for 10 consecutive epochs. Stopping.\n",
      "Iteration 16, loss = 0.63170470\n",
      "Training loss did not improve more than tol=0.000005 for 10 consecutive epochs. Stopping.\n",
      "Iteration 17, loss = 0.62594649\n",
      "Training loss did not improve more than tol=0.000005 for 10 consecutive epochs. Stopping.\n",
      "Iteration 18, loss = 0.60474541\n",
      "Training loss did not improve more than tol=0.000005 for 10 consecutive epochs. Stopping.\n",
      "Iteration 19, loss = 0.59888335\n",
      "Training loss did not improve more than tol=0.000005 for 10 consecutive epochs. Stopping.\n",
      "Iteration 20, loss = 0.57894953\n",
      "Training loss did not improve more than tol=0.000005 for 10 consecutive epochs. Stopping.\n",
      "Iteration 21, loss = 0.60046589\n",
      "Training loss did not improve more than tol=0.000005 for 10 consecutive epochs. Stopping.\n",
      "Iteration 22, loss = 0.58421073\n",
      "Training loss did not improve more than tol=0.000005 for 10 consecutive epochs. Stopping.\n",
      "Iteration 23, loss = 0.57540056\n",
      "Training loss did not improve more than tol=0.000005 for 10 consecutive epochs. Stopping.\n",
      "Iteration 24, loss = 0.58673067\n",
      "Training loss did not improve more than tol=0.000005 for 10 consecutive epochs. Stopping.\n",
      "Iteration 25, loss = 0.55478649\n",
      "Training loss did not improve more than tol=0.000005 for 10 consecutive epochs. Stopping.\n",
      "Iteration 26, loss = 0.56552789\n",
      "Training loss did not improve more than tol=0.000005 for 10 consecutive epochs. Stopping.\n",
      "Iteration 27, loss = 0.55175168\n",
      "Training loss did not improve more than tol=0.000005 for 10 consecutive epochs. Stopping.\n",
      "Iteration 28, loss = 0.55931488\n",
      "Training loss did not improve more than tol=0.000005 for 10 consecutive epochs. Stopping.\n",
      "Iteration 29, loss = 0.56927404\n",
      "Training loss did not improve more than tol=0.000005 for 10 consecutive epochs. Stopping.\n",
      "Iteration 30, loss = 0.52873682\n",
      "Training loss did not improve more than tol=0.000005 for 10 consecutive epochs. Stopping.\n",
      "Iteration 1, loss = 0.27980145\n",
      "Iteration 2, loss = 1.03246906\n",
      "Iteration 3, loss = 0.75845001\n",
      "Iteration 4, loss = 0.70156848\n",
      "Iteration 5, loss = 0.68305159\n",
      "Iteration 6, loss = 0.65222941\n",
      "Iteration 7, loss = 0.61438236\n",
      "Iteration 8, loss = 0.63365835\n",
      "Iteration 9, loss = 0.61553830\n",
      "Iteration 10, loss = 0.59303393\n",
      "Iteration 11, loss = 0.58963368\n",
      "Iteration 12, loss = 0.58273430\n",
      "Training loss did not improve more than tol=0.000005 for 10 consecutive epochs. Stopping.\n",
      "Iteration 13, loss = 0.56018310\n",
      "Training loss did not improve more than tol=0.000005 for 10 consecutive epochs. Stopping.\n",
      "Iteration 14, loss = 0.55596607\n",
      "Training loss did not improve more than tol=0.000005 for 10 consecutive epochs. Stopping.\n",
      "Iteration 1, loss = 0.36951818\n",
      "Iteration 2, loss = 0.93699388\n",
      "Iteration 3, loss = 0.69459463\n",
      "Iteration 4, loss = 0.66803413\n",
      "Iteration 5, loss = 0.62183793\n",
      "Iteration 6, loss = 0.61929863\n",
      "Iteration 7, loss = 0.59160938\n",
      "Iteration 8, loss = 0.57819984\n",
      "Iteration 9, loss = 0.55820727\n"
     ]
    },
    {
     "data": {
      "image/png": "[encoded data removed]",
      "text/plain": [
       "<Figure size 432x288 with 1 Axes>"
      ]
     },
     "metadata": {
      "needs_background": "light"
     },
     "output_type": "display_data"
    }
   ],
   "source": [
    "import matplotlib.pyplot as plt\n",
    "\n",
    "for i in range(1,4):\n",
    "    clf = set_classifier()\n",
    "    stages, results, = evolve_process(clf, i)\n",
    "    plt.plot(stages, results)\n",
    "\n",
    "plt.xlabel('generations')\n",
    "plt.ylabel('specialist performance')\n",
    "plt.show()"
   ]
  }
 ],
 "metadata": {
  "interpreter": {
   "hash": "456e324ffeb74f1f034f765c2a4bb10a44a088b16d5dd2a7c0d4e6be8a580f29"
  },
  "kernelspec": {
   "display_name": "Python 3.8.10 64-bit ('venv': venv)",
   "language": "python",
   "name": "python3"
  },
  "language_info": {
   "codemirror_mode": {
    "name": "ipython",
    "version": 3
   },
   "file_extension": ".py",
   "mimetype": "text/x-python",
   "name": "python",
   "nbconvert_exporter": "python",
   "pygments_lexer": "ipython3",
   "version": "3.8.10"
  },
  "orig_nbformat": 4
 },
 "nbformat": 4,
 "nbformat_minor": 2
}
