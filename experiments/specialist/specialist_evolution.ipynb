{
 "cells": [
  {
   "cell_type": "code",
   "execution_count": 1,
   "metadata": {},
   "outputs": [
    {
     "name": "stdout",
     "output_type": "stream",
     "text": [
      "39380\n"
     ]
    }
   ],
   "source": [
    "from specialist_data import transformed\n",
    "from sklearn.neural_network import MLPClassifier\n",
    "import warnings\n",
    "warnings.filterwarnings('ignore')\n",
    "\n",
    "data = transformed.data.copy()\n",
    "print(len(data))\n",
    "def set_classifier():\n",
    "    return  MLPClassifier(\n",
    "        hidden_layer_sizes=(64,64,64,64,64),\n",
    "        alpha=0.000001,\n",
    "        max_iter=2000,\n",
    "        activation=\"tanh\",\n",
    "        verbose=10,\n",
    "        random_state=42,\n",
    "        tol=0.000005\n",
    "    )\n",
    "def intervalToTrain(i,slice):\n",
    "    startToTrain = i*slice\n",
    "    #print((f'index > {startToTrain} and index < {startToTrain+slice}'))\n",
    "    return data.query(f'index > {startToTrain} and index < {startToTrain+slice}')\n",
    "\n",
    "def intervalToTest(i,slice):  \n",
    "    startToTest = (i*slice)+slice\n",
    "    #print(len(data))\n",
    "    #print((f'index > {startToTest} and index < {startToTest+slice}'))  \n",
    "    return data.query(f'index > {startToTest} and index < {startToTest+slice}')\n",
    "    \n",
    "def evolve_stage(clf, i, slice):\n",
    "    # train_data = data.query(f'index > {stage}000 and index < {stage + interval}000')\n",
    "    train_data = intervalToTrain(i, slice)\n",
    "    print(len(data))\n",
    "    # test_data = data.query(f'index > {stage + interval}000 and index < {stage + interval*2}000')\n",
    "    test_data = intervalToTest(i, slice)\n",
    "    transformed.set_data(train_data)\n",
    "    clf = clf.partial_fit(transformed.X, transformed.level, ['bad', 'good']) # adicionar mais um escala **dps \n",
    "    transformed.set_data(test_data) #reseta os dados\n",
    "    # save in csv\n",
    "    return clf.score(transformed.X, transformed.level)\n",
    "\n",
    "def evolve_process(clf, interval=1):\n",
    "    results = []\n",
    "    stages = []\n",
    "    slice = 500\n",
    "    max_gen = 40 - (interval * 2)\n",
    "    print(max_gen,interval)\n",
    "    for i in range(0, 9, interval):\n",
    "        r = evolve_stage(clf, i, slice)\n",
    "        #results.append(int(r*100))\n",
    "        # stages.append(i*1000)\n",
    "    # save dataframes from arrays    \n",
    "    return stages, results\n",
    "    \n"
   ]
  },
  {
   "cell_type": "code",
   "execution_count": 2,
   "metadata": {},
   "outputs": [
    {
     "name": "stdout",
     "output_type": "stream",
     "text": [
      "38 1\n",
      "39380\n",
      "Iteration 1, loss = 0.60436704\n",
      "39380\n",
      "Iteration 2, loss = 0.26481098\n",
      "39380\n",
      "Iteration 3, loss = 0.10229073\n",
      "39380\n",
      "Iteration 4, loss = 0.03965752\n",
      "39380\n",
      "Iteration 5, loss = 0.01680886\n",
      "39380\n",
      "Iteration 6, loss = 0.00860632\n",
      "39380\n",
      "Iteration 7, loss = 0.00494600\n",
      "39380\n",
      "Iteration 8, loss = 0.00325423\n",
      "39380\n",
      "Iteration 9, loss = 0.00239212\n"
     ]
    },
    {
     "data": {
      "text/plain": [
       "([], [])"
      ]
     },
     "execution_count": 2,
     "metadata": {},
     "output_type": "execute_result"
    }
   ],
   "source": [
    "clf = set_classifier()\n",
    "\n",
    "evolve_process(clf)"
   ]
  }
 ],
 "metadata": {
  "interpreter": {
   "hash": "456e324ffeb74f1f034f765c2a4bb10a44a088b16d5dd2a7c0d4e6be8a580f29"
  },
  "kernelspec": {
   "display_name": "Python 3.8.10 64-bit ('venv': venv)",
   "language": "python",
   "name": "python3"
  },
  "language_info": {
   "codemirror_mode": {
    "name": "ipython",
    "version": 3
   },
   "file_extension": ".py",
   "mimetype": "text/x-python",
   "name": "python",
   "nbconvert_exporter": "python",
   "pygments_lexer": "ipython3",
   "version": "3.6.9"
  },
  "orig_nbformat": 4
 },
 "nbformat": 4,
 "nbformat_minor": 2
}
