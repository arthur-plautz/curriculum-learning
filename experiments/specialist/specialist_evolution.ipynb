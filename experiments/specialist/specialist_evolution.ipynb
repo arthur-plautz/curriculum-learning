{
 "cells": [
  {
   "cell_type": "code",
   "execution_count": 1,
   "metadata": {},
   "outputs": [],
   "source": [
    "from specialist_data import transformed\n",
    "from sklearn.neural_network import MLPClassifier\n",
    "import warnings\n",
    "warnings.filterwarnings('ignore')\n",
    "\n",
    "data = transformed.data.copy()\n",
    "clf = MLPClassifier(\n",
    "    hidden_layer_sizes=(64,64,64,64,64),\n",
    "    alpha=0.000001,\n",
    "    max_iter=2000,\n",
    "    activation=\"tanh\",\n",
    "    verbose=10,\n",
    "    random_state=42,\n",
    "    tol=0.000005\n",
    ")\n",
    "\n",
    "def evolve_stage(clf, stage, interval=2):\n",
    "    train_data = data.query(f'index > {stage}000 and index < {stage + interval}000')\n",
    "    test_data = data.query(f'index > {stage + interval}000 and index < {stage + interval*2}000')\n",
    "    transformed.set_data(train_data)\n",
    "    clf = clf.partial_fit(transformed.X, transformed.level, ['bad', 'good'])\n",
    "    transformed.set_data(test_data)\n",
    "    return clf.score(transformed.X, transformed.level)\n",
    "    "
   ]
  },
  {
   "cell_type": "code",
   "execution_count": 2,
   "metadata": {},
   "outputs": [
    {
     "name": "stdout",
     "output_type": "stream",
     "text": [
      "Iteration 1, loss = 0.67225845\n",
      "Iteration 2, loss = 0.69892059\n",
      "Iteration 3, loss = 0.67978082\n",
      "Iteration 4, loss = 0.66321520\n",
      "Iteration 5, loss = 0.64257646\n",
      "Iteration 6, loss = 0.63512890\n",
      "Iteration 7, loss = 0.60526930\n",
      "Iteration 8, loss = 0.59306481\n",
      "Iteration 9, loss = 0.60322600\n",
      "Iteration 10, loss = 0.57957818\n",
      "Iteration 11, loss = 0.55709763\n",
      "Iteration 12, loss = 0.52993219\n",
      "Iteration 13, loss = 0.53205032\n"
     ]
    },
    {
     "data": {
      "image/png": "[encoded data removed]",
      "text/plain": [
       "<Figure size 432x288 with 1 Axes>"
      ]
     },
     "metadata": {
      "needs_background": "light"
     },
     "output_type": "display_data"
    }
   ],
   "source": [
    "import matplotlib.pyplot as plt\n",
    "import numpy as np\n",
    "\n",
    "results = []\n",
    "stages = []\n",
    "for stg in range(8, 34, 2):\n",
    "    r = evolve_stage(clf, stg)\n",
    "    results.append(int(r*100))\n",
    "    stages.append(stg)\n",
    "\n",
    "\n",
    "plt.plot(stages, results)\n",
    "#title\n",
    "plt.title('S10')\n",
    "#labels\n",
    "plt.xlabel('Generation')\n",
    "plt.ylabel('Score')\n",
    "#gridLegend\n",
    "# plt.grid(True)\n",
    "plt.legend(['f(x) = 100x'], loc=4)\n",
    "plt.show()"
   ]
  }
 ],
 "metadata": {
  "interpreter": {
   "hash": "456e324ffeb74f1f034f765c2a4bb10a44a088b16d5dd2a7c0d4e6be8a580f29"
  },
  "kernelspec": {
   "display_name": "Python 3.8.10 64-bit ('venv': venv)",
   "language": "python",
   "name": "python3"
  },
  "language_info": {
   "codemirror_mode": {
    "name": "ipython",
    "version": 3
   },
   "file_extension": ".py",
   "mimetype": "text/x-python",
   "name": "python",
   "nbconvert_exporter": "python",
   "pygments_lexer": "ipython3",
   "version": "3.8.10"
  },
  "orig_nbformat": 4
 },
 "nbformat": 4,
 "nbformat_minor": 2
}
