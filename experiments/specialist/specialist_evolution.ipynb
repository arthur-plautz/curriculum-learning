{
 "cells": [
  {
   "cell_type": "code",
   "execution_count": 1,
   "metadata": {},
   "outputs": [
    {
     "name": "stderr",
     "output_type": "stream",
     "text": [
      "/home/arthur/projects/curriculum-learning/models/transform/environmental.py:32: UserWarning: Pandas doesn't allow columns to be created via a new attribute name - see https://pandas.pydata.org/pandas-docs/stable/indexing.html#attribute-access\n",
      "  self.data.level = self.level\n"
     ]
    }
   ],
   "source": [
    "from specialist_data import transformed\n",
    "from sklearn.neural_network import MLPClassifier\n",
    "import warnings\n",
    "warnings.filterwarnings('ignore')\n",
    "\n",
    "data = transformed.data.copy()\n",
    "clf = MLPClassifier(\n",
    "    hidden_layer_sizes=(64,64,64,64,64),\n",
    "    alpha=0.000001,\n",
    "    max_iter=2000,\n",
    "    activation=\"tanh\",\n",
    "    verbose=10,\n",
    "    random_state=42,\n",
    "    tol=0.000005\n",
    ")\n",
    "\n",
    "def evolve_stage(clf, stage, interval=2):\n",
    "    train_data = data.query(f'index > {stage}000 and index < {stage + interval}000')\n",
    "    test_data = data.query(f'index > {stage + interval}000 and index < {stage + interval*2}000')\n",
    "    transformed.set_data(train_data)\n",
    "    clf = clf.partial_fit(transformed.X, transformed.level, ['bad', 'good'])\n",
    "    transformed.set_data(test_data)\n",
    "    return clf.score(transformed.X, transformed.level)\n",
    "    "
   ]
  },
  {
   "cell_type": "code",
   "execution_count": 4,
   "metadata": {},
   "outputs": [
    {
     "name": "stdout",
     "output_type": "stream",
     "text": [
      "Iteration 29, loss = 0.68936502\n",
      "Training loss did not improve more than tol=0.000005 for 10 consecutive epochs. Stopping.\n",
      "Iteration 30, loss = 0.71927782\n",
      "Training loss did not improve more than tol=0.000005 for 10 consecutive epochs. Stopping.\n",
      "Iteration 31, loss = 0.77192895\n",
      "Training loss did not improve more than tol=0.000005 for 10 consecutive epochs. Stopping.\n",
      "Iteration 32, loss = 0.70576017\n",
      "Training loss did not improve more than tol=0.000005 for 10 consecutive epochs. Stopping.\n",
      "Iteration 33, loss = 0.67000954\n",
      "Training loss did not improve more than tol=0.000005 for 10 consecutive epochs. Stopping.\n",
      "Iteration 34, loss = 0.63107390\n",
      "Training loss did not improve more than tol=0.000005 for 10 consecutive epochs. Stopping.\n",
      "Iteration 35, loss = 0.59209399\n",
      "Training loss did not improve more than tol=0.000005 for 10 consecutive epochs. Stopping.\n",
      "Iteration 36, loss = 0.60692725\n",
      "Training loss did not improve more than tol=0.000005 for 10 consecutive epochs. Stopping.\n",
      "Iteration 37, loss = 0.58461140\n",
      "Training loss did not improve more than tol=0.000005 for 10 consecutive epochs. Stopping.\n",
      "Iteration 38, loss = 0.57047192\n",
      "Training loss did not improve more than tol=0.000005 for 10 consecutive epochs. Stopping.\n",
      "Iteration 39, loss = 0.57078909\n",
      "Training loss did not improve more than tol=0.000005 for 10 consecutive epochs. Stopping.\n",
      "Iteration 40, loss = 0.55553600\n",
      "Training loss did not improve more than tol=0.000005 for 10 consecutive epochs. Stopping.\n",
      "Iteration 41, loss = 0.53216201\n",
      "Training loss did not improve more than tol=0.000005 for 10 consecutive epochs. Stopping.\n",
      "Iteration 42, loss = 0.52935025\n",
      "Training loss did not improve more than tol=0.000005 for 10 consecutive epochs. Stopping.\n"
     ]
    },
    {
     "data": {
      "image/png": "[encoded data removed]",
      "text/plain": [
       "<Figure size 432x288 with 1 Axes>"
      ]
     },
     "metadata": {
      "needs_background": "light"
     },
     "output_type": "display_data"
    }
   ],
   "source": [
    "import matplotlib.pyplot as plt\n",
    "\n",
    "results = []\n",
    "stages = []\n",
    "for stg in range(8, 36, 2):\n",
    "    r = evolve_stage(clf, stg)\n",
    "    results.append(int(r*100))\n",
    "    stages.append(stg)\n",
    "\n",
    "plt.plot(stages, results)\n",
    "plt.show()"
   ]
  }
 ],
 "metadata": {
  "interpreter": {
   "hash": "456e324ffeb74f1f034f765c2a4bb10a44a088b16d5dd2a7c0d4e6be8a580f29"
  },
  "kernelspec": {
   "display_name": "Python 3.8.10 64-bit ('venv': venv)",
   "language": "python",
   "name": "python3"
  },
  "language_info": {
   "codemirror_mode": {
    "name": "ipython",
    "version": 3
   },
   "file_extension": ".py",
   "mimetype": "text/x-python",
   "name": "python",
   "nbconvert_exporter": "python",
   "pygments_lexer": "ipython3",
   "version": "3.8.10"
  },
  "orig_nbformat": 4
 },
 "nbformat": 4,
 "nbformat_minor": 2
}
