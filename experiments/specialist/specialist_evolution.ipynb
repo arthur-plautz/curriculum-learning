{
 "cells": [
  {
   "cell_type": "code",
   "execution_count": 1,
   "metadata": {},
   "outputs": [
    {
     "name": "stderr",
     "output_type": "stream",
     "text": [
      "/home/arthur/projects/curriculum-learning/models/transform/environmental.py:32: UserWarning: Pandas doesn't allow columns to be created via a new attribute name - see https://pandas.pydata.org/pandas-docs/stable/indexing.html#attribute-access\n",
      "  self.data.level = self.level\n"
     ]
    }
   ],
   "source": [
    "from specialist_data import transformed\n",
    "from sklearn.neural_network import MLPClassifier\n",
    "import warnings\n",
    "warnings.filterwarnings('ignore')\n",
    "\n",
    "data = transformed.data.copy()\n",
    "clf = MLPClassifier(\n",
    "    hidden_layer_sizes=(64,64,64,64,64),\n",
    "    alpha=0.000001,\n",
    "    max_iter=2000,\n",
    "    activation=\"tanh\",\n",
    "    verbose=10,\n",
    "    random_state=42,\n",
    "    tol=0.000005\n",
    ")\n",
    "\n",
    "def evolve_stage(clf, stage, interval=2):\n",
    "    train_data = data.query(f'index > {stage}000 and index < {stage + interval}000')\n",
    "    test_data = data.query(f'index > {stage + interval}000 and index < {stage + interval*2}000')\n",
    "    transformed.set_data(train_data)\n",
    "    clf = clf.partial_fit(transformed.X, transformed.level, ['bad', 'good'])\n",
    "    transformed.set_data(test_data)\n",
    "    return clf.score(transformed.X, transformed.level)\n",
    "    "
   ]
  },
  {
   "cell_type": "code",
   "execution_count": 6,
   "metadata": {},
   "outputs": [
    {
     "name": "stdout",
     "output_type": "stream",
     "text": [
      "Iteration 57, loss = 0.72262131\n",
      "Training loss did not improve more than tol=0.000005 for 10 consecutive epochs. Stopping.\n",
      "Iteration 58, loss = 0.88248464\n",
      "Training loss did not improve more than tol=0.000005 for 10 consecutive epochs. Stopping.\n",
      "Iteration 59, loss = 0.77278287\n",
      "Training loss did not improve more than tol=0.000005 for 10 consecutive epochs. Stopping.\n",
      "Iteration 60, loss = 0.67953736\n",
      "Training loss did not improve more than tol=0.000005 for 10 consecutive epochs. Stopping.\n",
      "Iteration 61, loss = 0.62154856\n",
      "Training loss did not improve more than tol=0.000005 for 10 consecutive epochs. Stopping.\n",
      "Iteration 62, loss = 0.58413850\n",
      "Training loss did not improve more than tol=0.000005 for 10 consecutive epochs. Stopping.\n",
      "Iteration 63, loss = 0.54952938\n",
      "Training loss did not improve more than tol=0.000005 for 10 consecutive epochs. Stopping.\n",
      "Iteration 64, loss = 0.53713680\n",
      "Training loss did not improve more than tol=0.000005 for 10 consecutive epochs. Stopping.\n",
      "Iteration 65, loss = 0.50743362\n",
      "Training loss did not improve more than tol=0.000005 for 10 consecutive epochs. Stopping.\n",
      "Iteration 66, loss = 0.46977395\n",
      "Training loss did not improve more than tol=0.000005 for 10 consecutive epochs. Stopping.\n",
      "Iteration 67, loss = 0.47006414\n",
      "Training loss did not improve more than tol=0.000005 for 10 consecutive epochs. Stopping.\n",
      "Iteration 68, loss = 0.43560886\n",
      "Training loss did not improve more than tol=0.000005 for 10 consecutive epochs. Stopping.\n",
      "Iteration 69, loss = 0.41617742\n",
      "Training loss did not improve more than tol=0.000005 for 10 consecutive epochs. Stopping.\n",
      "Iteration 70, loss = 0.41044700\n",
      "Training loss did not improve more than tol=0.000005 for 10 consecutive epochs. Stopping.\n"
     ]
    },
    {
     "data": {
      "image/png": "[encoded data removed]",
      "text/plain": [
       "<Figure size 432x288 with 1 Axes>"
      ]
     },
     "metadata": {
      "needs_background": "light"
     },
     "output_type": "display_data"
    }
   ],
   "source": [
    "import matplotlib.pyplot as plt\n",
    "\n",
    "results = []\n",
    "stages = []\n",
    "for stg in range(8, 36, 2):\n",
    "    r = evolve_stage(clf, stg)\n",
    "    results.append(int(r*100))\n",
    "    stages.append(stg)\n",
    "\n",
    "plt.plot(stages, results)\n",
    "plt.show()"
   ]
  }
 ],
 "metadata": {
  "interpreter": {
   "hash": "456e324ffeb74f1f034f765c2a4bb10a44a088b16d5dd2a7c0d4e6be8a580f29"
  },
  "kernelspec": {
   "display_name": "Python 3.8.10 64-bit ('venv': venv)",
   "language": "python",
   "name": "python3"
  },
  "language_info": {
   "codemirror_mode": {
    "name": "ipython",
    "version": 3
   },
   "file_extension": ".py",
   "mimetype": "text/x-python",
   "name": "python",
   "nbconvert_exporter": "python",
   "pygments_lexer": "ipython3",
   "version": "3.8.10"
  },
  "orig_nbformat": 4
 },
 "nbformat": 4,
 "nbformat_minor": 2
}
