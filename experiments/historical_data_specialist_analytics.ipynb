{
 "cells": [
  {
   "cell_type": "code",
   "execution_count": null,
   "metadata": {},
   "outputs": [],
   "source": [
    "import logging\n",
    "logging.basicConfig()\n",
    "logger = logging.getLogger()\n",
    "# logger.setLevel(logging.INFO)\n",
    "\n",
    "from models.analytics.stats_group import StatsGroupAnalytics\n",
    "from models.analytics.base_conditions_group import BaseConditionsGroupAnalytics\n",
    "from models.analytics.agent_base_conditions import AgentBaseConditionsAnalytics\n",
    "from definitions import HISTORICAL_MANAGER_FOLDER, BASE_CONDITIONS_FOLDER\n",
    "from graphs import precision_recall_group_graph, score_group_graph, heatmap\n",
    "\n",
    "seeds = ['s1', 's2','s3', 's4', 's5' ]\n",
    "groups = ['sp10', 'sp50', 'sp100', 'sp200']"
   ]
  },
  {
   "cell_type": "code",
   "execution_count": null,
   "metadata": {},
   "outputs": [],
   "source": [
    "stats_analytics= StatsGroupAnalytics(HISTORICAL_MANAGER_FOLDER, seeds, groups)\n",
    "summary = stats_analytics.get_summary()"
   ]
  },
  {
   "cell_type": "code",
   "execution_count": null,
   "metadata": {},
   "outputs": [],
   "source": [
    "import seaborn as sns\n",
    "\n",
    "sns.color_palette(\"mako\", as_cmap=True)\n",
    "\n",
    "score_group_graph(groups, summary, seeds)\n",
    "\n",
    "metrics_columns = ['specialist_tp', 'specialist_fp', 'specialist_fn', 'specialist_tn']\n",
    "metrics = stats_analytics.get_stats(metrics_columns)\n",
    "\n",
    "precision_recall_group_graph(metrics, groups, seeds)"
   ]
  },
  {
   "cell_type": "code",
   "execution_count": null,
   "metadata": {},
   "outputs": [],
   "source": [
    "import pandas as pd\n",
    "\n",
    "specialists_heat = {}\n",
    "\n",
    "for group in groups:\n",
    "    base_conditions_analytics = BaseConditionsGroupAnalytics(HISTORICAL_MANAGER_FOLDER, seeds, [group])\n",
    "    specialist_heatmap_list = base_conditions_analytics.get_summary()\n",
    "\n",
    "    df = pd.DataFrame(specialist_heatmap_list[0])\n",
    "    specialist_heat_df = df * 1000\n",
    "\n",
    "    specialists_heat[group] = specialist_heat_df\n",
    "    heatmap(specialist_heat_df.T, title=f'Specialist Performance Through Conditions X Generation {seeds} [group {group}]')"
   ]
  },
  {
   "cell_type": "code",
   "execution_count": null,
   "metadata": {},
   "outputs": [],
   "source": [
    "agent_conditions = AgentBaseConditionsAnalytics(BASE_CONDITIONS_FOLDER, seeds)\n",
    "\n",
    "for seed in seeds:\n",
    "    df = agent_conditions.get_seed(seed)\n",
    "    heatmap(df.data.T, title=f'Agent Performance Through Conditions X Generation {seed}')\n",
    "\n",
    "agent_heat_df = agent_conditions.get_mean()\n",
    "\n",
    "heatmap(agent_heat_df.T, title=f'Agent Performance Through Conditions X Generation {seeds} Mean')"
   ]
  },
  {
   "cell_type": "code",
   "execution_count": null,
   "metadata": {},
   "outputs": [],
   "source": [
    "start = len(agent_heat_df) - len(specialist_heat_df)\n",
    "\n",
    "agent_heat_df = agent_heat_df[start:].reset_index()\n",
    "diff = agent_heat_df.subtract(specialist_heat_df)\n",
    "\n",
    "heatmap(diff.T.abs(), title=f'Difference of Agent/Specialist Performance Through Conditions X Generation {seeds}', colorscale='temps')"
   ]
  }
 ],
 "metadata": {
  "kernelspec": {
   "display_name": "Python 3.8.10 ('venv': venv)",
   "language": "python",
   "name": "python3"
  },
  "language_info": {
   "codemirror_mode": {
    "name": "ipython",
    "version": 3
   },
   "file_extension": ".py",
   "mimetype": "text/x-python",
   "name": "python",
   "nbconvert_exporter": "python",
   "pygments_lexer": "ipython3",
   "version": "3.8.10"
  },
  "orig_nbformat": 4,
  "vscode": {
   "interpreter": {
    "hash": "ec50b3290277b2de4ba0e43121c80cd3e5a2cfa961128487e9ab6cf116ae75c8"
   }
  }
 },
 "nbformat": 4,
 "nbformat_minor": 2
}
