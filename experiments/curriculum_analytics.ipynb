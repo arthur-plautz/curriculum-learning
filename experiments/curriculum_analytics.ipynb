{
 "cells": [
  {
   "cell_type": "code",
   "execution_count": null,
   "metadata": {},
   "outputs": [],
   "source": [
    "from models.analytics.stats_curriculum import CurriculumStats\n",
    "\n",
    "curriculums = ['without', 'h00e10','h02e08','h04h06','h06e04','h08e02','h10e00']\n",
    "seeds = [f's{i+1}' for i in range(5)]\n",
    "curriculum_stats = {}\n",
    "curriculum_means = {}\n",
    "\n",
    "for curriculum in curriculums:\n",
    "    stats_dir = 'xdpole' if curriculum == 'without' else f'curriculum/{curriculum}'\n",
    "    stats = CurriculumStats(stats_dir, seeds)\n",
    "    curriculum_stats[curriculum] = stats\n",
    "    curriculum_means[curriculum] = stats.get_mean()\n"
   ]
  },
  {
   "cell_type": "code",
   "execution_count": null,
   "metadata": {},
   "outputs": [],
   "source": [
    "import plotly.graph_objects as go\n",
    "\n",
    "def add_line(fg, **kwargs):\n",
    "    fg.add_trace(\n",
    "        go.Scatter(\n",
    "            mode='lines',\n",
    "            **kwargs\n",
    "        ),\n",
    "    )\n",
    "\n",
    "def avgfit_graph(data, target_stats, seeds=''):\n",
    "    fg = go.Figure(\n",
    "        layout=go.Layout(title=f'AvgFit Comparision {seeds}')\n",
    "    )\n",
    "\n",
    "    for stats in target_stats:\n",
    "        df = data.get(stats)\n",
    "        add_line(fg, x=df.gen, y=df.avgfit, name=f'Avg Fit - [{stats} curriculum]')\n",
    "\n",
    "    fg.update_xaxes(title_text='Generation')\n",
    "    fg.update_yaxes(title_text='Avg Fit')\n",
    "    fg.show()\n"
   ]
  },
  {
   "cell_type": "code",
   "execution_count": null,
   "metadata": {},
   "outputs": [],
   "source": [
    "for curriculum in curriculums[1:]:\n",
    "    avgfit_graph(curriculum_means, ['without', curriculum], seeds)"
   ]
  }
 ],
 "metadata": {
  "kernelspec": {
   "display_name": "Python 3.8.10 ('venv': venv)",
   "language": "python",
   "name": "python3"
  },
  "language_info": {
   "codemirror_mode": {
    "name": "ipython",
    "version": 3
   },
   "file_extension": ".py",
   "mimetype": "text/x-python",
   "name": "python",
   "nbconvert_exporter": "python",
   "pygments_lexer": "ipython3",
   "version": "3.8.10"
  },
  "orig_nbformat": 4,
  "vscode": {
   "interpreter": {
    "hash": "ec50b3290277b2de4ba0e43121c80cd3e5a2cfa961128487e9ab6cf116ae75c8"
   }
  }
 },
 "nbformat": 4,
 "nbformat_minor": 2
}
